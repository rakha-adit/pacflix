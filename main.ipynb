{
 "cells": [
  {
   "cell_type": "code",
   "execution_count": 14,
   "metadata": {},
   "outputs": [],
   "source": [
    "from user import User"
   ]
  },
  {
   "cell_type": "code",
   "execution_count": 15,
   "metadata": {},
   "outputs": [],
   "source": [
    "user1 = User(\"Rosy\")"
   ]
  },
  {
   "cell_type": "code",
   "execution_count": 16,
   "metadata": {},
   "outputs": [
    {
     "data": {
      "text/plain": [
       "'Rosy'"
      ]
     },
     "execution_count": 16,
     "metadata": {},
     "output_type": "execute_result"
    }
   ],
   "source": [
    "user1.username"
   ]
  },
  {
   "cell_type": "code",
   "execution_count": 17,
   "metadata": {},
   "outputs": [
    {
     "data": {
      "text/plain": [
       "'Basic Plan'"
      ]
     },
     "execution_count": 17,
     "metadata": {},
     "output_type": "execute_result"
    }
   ],
   "source": [
    "user1.current_plan"
   ]
  },
  {
   "cell_type": "code",
   "execution_count": 18,
   "metadata": {},
   "outputs": [
    {
     "data": {
      "text/plain": [
       "12"
      ]
     },
     "execution_count": 18,
     "metadata": {},
     "output_type": "execute_result"
    }
   ],
   "source": [
    "user1.duration_plan"
   ]
  },
  {
   "cell_type": "code",
   "execution_count": 19,
   "metadata": {},
   "outputs": [],
   "source": [
    "user2 = User(\"Amanda\")"
   ]
  },
  {
   "cell_type": "code",
   "execution_count": 20,
   "metadata": {},
   "outputs": [
    {
     "data": {
      "text/plain": [
       "'Amanda'"
      ]
     },
     "execution_count": 20,
     "metadata": {},
     "output_type": "execute_result"
    }
   ],
   "source": [
    "user2.username"
   ]
  },
  {
   "cell_type": "code",
   "execution_count": 21,
   "metadata": {},
   "outputs": [],
   "source": [
    "user2.current_plan"
   ]
  },
  {
   "cell_type": "code",
   "execution_count": 22,
   "metadata": {},
   "outputs": [],
   "source": [
    "user2.duration_plan"
   ]
  },
  {
   "cell_type": "code",
   "execution_count": 23,
   "metadata": {},
   "outputs": [
    {
     "name": "stdout",
     "output_type": "stream",
     "text": [
      "List Benefit and Plan from PacFlix\n",
      "\n",
      "Basic Plan            Standard Plan                Premium Plan                                          Services\n",
      "--------------------  ---------------------------  ----------------------------------------------------  -----------------\n",
      "True                  True                         True                                                  Bisa Stream\n",
      "True                  True                         True                                                  Bisa Download\n",
      "True                  True                         True                                                  Kualitas SD\n",
      "False                 True                         True                                                  Kualitas HD\n",
      "False                 False                        True                                                  Kualitas UHD\n",
      "1                     2                            4                                                     Number of Devices\n",
      "3rd party Movie only  Basic Plan Content + Sports  Basic Plan + Standard Plan + PacFlix Original Series  Jenis Konten\n",
      "120000                160000                       200000                                                Harga\n"
     ]
    }
   ],
   "source": [
    "user1.check_all_plan()"
   ]
  },
  {
   "cell_type": "code",
   "execution_count": 24,
   "metadata": {},
   "outputs": [
    {
     "name": "stdout",
     "output_type": "stream",
     "text": [
      "List Benefit and Plan from PacFlix\n",
      "\n",
      "Basic Plan            Standard Plan                Premium Plan                                          Services\n",
      "--------------------  ---------------------------  ----------------------------------------------------  -----------------\n",
      "True                  True                         True                                                  Bisa Stream\n",
      "True                  True                         True                                                  Bisa Download\n",
      "True                  True                         True                                                  Kualitas SD\n",
      "False                 True                         True                                                  Kualitas HD\n",
      "False                 False                        True                                                  Kualitas UHD\n",
      "1                     2                            4                                                     Number of Devices\n",
      "3rd party Movie only  Basic Plan Content + Sports  Basic Plan + Standard Plan + PacFlix Original Series  Jenis Konten\n",
      "120000                160000                       200000                                                Harga\n"
     ]
    }
   ],
   "source": [
    "user2.check_all_plan()"
   ]
  },
  {
   "cell_type": "code",
   "execution_count": 25,
   "metadata": {},
   "outputs": [
    {
     "name": "stdout",
     "output_type": "stream",
     "text": [
      "Rosy sedang berlangganan Basic Plan\n",
      "Benefit\n",
      "Basic Plan            Services\n",
      "--------------------  -----------------\n",
      "True                  Bisa Stream\n",
      "True                  Bisa Download\n",
      "True                  Kualitas SD\n",
      "False                 Kualitas HD\n",
      "False                 Kualitas UHD\n",
      "1                     Number of Devices\n",
      "3rd party Movie only  Jenis Konten\n",
      "120000                Harga\n"
     ]
    }
   ],
   "source": [
    "user1.check_user_plan()"
   ]
  },
  {
   "cell_type": "code",
   "execution_count": 26,
   "metadata": {},
   "outputs": [
    {
     "name": "stdout",
     "output_type": "stream",
     "text": [
      "Anda belum berlangganan\n"
     ]
    }
   ],
   "source": [
    "user2.check_user_plan()"
   ]
  }
 ],
 "metadata": {
  "kernelspec": {
   "display_name": "Python 3",
   "language": "python",
   "name": "python3"
  },
  "language_info": {
   "codemirror_mode": {
    "name": "ipython",
    "version": 3
   },
   "file_extension": ".py",
   "mimetype": "text/x-python",
   "name": "python",
   "nbconvert_exporter": "python",
   "pygments_lexer": "ipython3",
   "version": "3.12.7"
  }
 },
 "nbformat": 4,
 "nbformat_minor": 2
}
